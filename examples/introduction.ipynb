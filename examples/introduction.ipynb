{
 "cells": [
  {
   "cell_type": "markdown",
   "metadata": {},
   "source": [
    "# Introduction"
   ]
  },
  {
   "cell_type": "code",
   "execution_count": 16,
   "metadata": {},
   "outputs": [],
   "source": [
    "import widget_contextmenu"
   ]
  },
  {
   "cell_type": "code",
   "execution_count": 20,
   "metadata": {},
   "outputs": [
    {
     "data": {
      "application/vnd.jupyter.widget-view+json": {
       "model_id": "7d75f57eefdb41998c7676e5c090e97d",
       "version_major": 2,
       "version_minor": 0
      },
      "text/plain": [
       "ExampleWidget(layout=Layout(height='200px'))"
      ]
     },
     "metadata": {},
     "output_type": "display_data"
    }
   ],
   "source": [
    "w = widget_contextmenu.ExampleWidget()\n",
    "w.layout.height = '200px'\n",
    "w"
   ]
  },
  {
   "cell_type": "code",
   "execution_count": null,
   "metadata": {},
   "outputs": [],
   "source": [
    "assert w.value == 'Hello World'"
   ]
  }
 ],
 "metadata": {
  "kernelspec": {
   "display_name": "Python 3",
   "language": "python",
   "name": "python3"
  },
  "language_info": {
   "codemirror_mode": {
    "name": "ipython",
    "version": 3
   },
   "file_extension": ".py",
   "mimetype": "text/x-python",
   "name": "python",
   "nbconvert_exporter": "python",
   "pygments_lexer": "ipython3",
   "version": "3.8.3"
  },
  "widgets": {
   "application/vnd.jupyter.widget-state+json": {
    "state": {
     "1e0d07381f514206b7b9be0955b40e73": {
      "model_module": "@jupyter-widgets/base",
      "model_module_version": "1.2.0",
      "model_name": "LayoutModel",
      "state": {
       "height": "200px"
      }
     },
     "3cdcff47edf54fc297de8cc99fb1a7fb": {
      "model_module": "@jupyter-widgets/base",
      "model_module_version": "1.2.0",
      "model_name": "LayoutModel",
      "state": {}
     },
     "4033ede54e174f8c8147288fe4c204c4": {
      "model_module": "widget_contextmenu",
      "model_module_version": "^0.1.0",
      "model_name": "ExampleModel",
      "state": {
       "_model_module_version": "^0.1.0",
       "_view_module_version": "^0.1.0",
       "layout": "IPY_MODEL_1e0d07381f514206b7b9be0955b40e73"
      }
     },
     "43356402ad924c61bb8e805bba124629": {
      "model_module": "@jupyter-widgets/base",
      "model_module_version": "1.2.0",
      "model_name": "LayoutModel",
      "state": {}
     },
     "5308ee47e5d64b7ba12014832513a580": {
      "model_module": "@jupyter-widgets/base",
      "model_module_version": "1.2.0",
      "model_name": "LayoutModel",
      "state": {}
     },
     "5d627b26af6646c1a3f73d7a73a9a36d": {
      "model_module": "widget_contextmenu",
      "model_module_version": "^0.1.0",
      "model_name": "ExampleModel",
      "state": {
       "_model_module_version": "^0.1.0",
       "_view_module_version": "^0.1.0",
       "layout": "IPY_MODEL_43356402ad924c61bb8e805bba124629"
      }
     },
     "6ab64cf4fcd1477fb720f2206ef15871": {
      "model_module": "@jupyter-widgets/base",
      "model_module_version": "1.2.0",
      "model_name": "LayoutModel",
      "state": {}
     },
     "6dc52277799a489a97ed45e10ee37260": {
      "model_module": "widget_contextmenu",
      "model_module_version": "^0.1.0",
      "model_name": "ExampleModel",
      "state": {
       "_model_module_version": "^0.1.0",
       "_view_module_version": "^0.1.0",
       "layout": "IPY_MODEL_f5dc151052204c64ae5c50bed378cf39"
      }
     },
     "7d75f57eefdb41998c7676e5c090e97d": {
      "model_module": "widget_contextmenu",
      "model_module_version": "^0.1.0",
      "model_name": "ExampleModel",
      "state": {
       "_model_module_version": "^0.1.0",
       "_view_module_version": "^0.1.0",
       "layout": "IPY_MODEL_fc5fbcc634e6401eab685172c0328331"
      }
     },
     "96cd5f753a2148658a2a34494b0ef076": {
      "model_module": "widget_contextmenu",
      "model_module_version": "^0.1.0",
      "model_name": "ExampleModel",
      "state": {
       "_model_module_version": "^0.1.0",
       "_view_module_version": "^0.1.0",
       "layout": "IPY_MODEL_b32536e34c6c455baa1afae2ee16e4f7"
      }
     },
     "b32536e34c6c455baa1afae2ee16e4f7": {
      "model_module": "@jupyter-widgets/base",
      "model_module_version": "1.2.0",
      "model_name": "LayoutModel",
      "state": {}
     },
     "c121ff3f4ed7414fbeeed277d4f6ba87": {
      "model_module": "@jupyter-widgets/base",
      "model_module_version": "1.2.0",
      "model_name": "LayoutModel",
      "state": {}
     },
     "c54a3ee8dca640c480ead6e5c7796946": {
      "model_module": "widget_contextmenu",
      "model_module_version": "^0.1.0",
      "model_name": "ExampleModel",
      "state": {
       "_model_module_version": "^0.1.0",
       "_view_module_version": "^0.1.0",
       "layout": "IPY_MODEL_5308ee47e5d64b7ba12014832513a580"
      }
     },
     "da2fabfa63e7486aa6ea4bd3890afc44": {
      "model_module": "widget_contextmenu",
      "model_module_version": "^0.1.0",
      "model_name": "ExampleModel",
      "state": {
       "_model_module_version": "^0.1.0",
       "_view_module_version": "^0.1.0",
       "layout": "IPY_MODEL_6ab64cf4fcd1477fb720f2206ef15871"
      }
     },
     "f15b11b13126422b8230e082421d36a4": {
      "model_module": "widget_contextmenu",
      "model_module_version": "^0.1.0",
      "model_name": "ExampleModel",
      "state": {
       "_model_module_version": "^0.1.0",
       "_view_module_version": "^0.1.0",
       "layout": "IPY_MODEL_3cdcff47edf54fc297de8cc99fb1a7fb"
      }
     },
     "f5dc151052204c64ae5c50bed378cf39": {
      "model_module": "@jupyter-widgets/base",
      "model_module_version": "1.2.0",
      "model_name": "LayoutModel",
      "state": {
       "height": "200px"
      }
     },
     "f925ddb6a9994a31a5112d703de4e414": {
      "model_module": "widget_contextmenu",
      "model_module_version": "^0.1.0",
      "model_name": "ExampleModel",
      "state": {
       "_model_module_version": "^0.1.0",
       "_view_module_version": "^0.1.0",
       "layout": "IPY_MODEL_c121ff3f4ed7414fbeeed277d4f6ba87"
      }
     },
     "fc5fbcc634e6401eab685172c0328331": {
      "model_module": "@jupyter-widgets/base",
      "model_module_version": "1.2.0",
      "model_name": "LayoutModel",
      "state": {
       "height": "200px"
      }
     }
    },
    "version_major": 2,
    "version_minor": 0
   }
  }
 },
 "nbformat": 4,
 "nbformat_minor": 4
}
